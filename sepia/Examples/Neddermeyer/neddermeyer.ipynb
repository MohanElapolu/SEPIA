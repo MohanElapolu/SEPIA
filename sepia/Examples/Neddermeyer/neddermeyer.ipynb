{
 "cells": [
  {
   "cell_type": "code",
   "execution_count": 7,
   "metadata": {},
   "outputs": [
    {
     "name": "stdout",
     "output_type": "stream",
     "text": [
      "The autoreload extension is already loaded. To reload it, use:\n",
      "  %reload_ext autoreload\n"
     ]
    }
   ],
   "source": [
    "%load_ext autoreload\n",
    "%autoreload 2\n",
    "%matplotlib widget\n",
    "import os\n",
    "from sepia.SepiaModelSetup import setup_model\n",
    "from sepia.SepiaData import SepiaData as SepiaData\n",
    "import numpy as np\n",
    "import sepia.SepiaPlot as SepiaPlot\n",
    "from mpl_toolkits.mplot3d import Axes3D\n",
    "import matplotlib.pyplot as plt\n",
    "from nedderimp import nedderimp\n",
    "from scipy.interpolate import interp2d\n",
    "from copy import deepcopy\n",
    "\n",
    "def dist2pi(x1,x2):\n",
    "    # computes the distance assuming periodicity: 2pi=0\n",
    "    # x1 and x2 are vectors with common length and values\n",
    "    # between 0 and 2pi\n",
    "    d = abs(x1-x2)\n",
    "    iwrap = d > np.pi\n",
    "    d[iwrap] = 2*np.pi - d[iwrap]\n",
    "    return(d)\n",
    "def dnorm(x,mu,scale):  \n",
    "    # normal density in 1-d. \n",
    "    # It is scaled so that the 1-d integral is 1\n",
    "    # mu and scale are scalars, x is an array...\n",
    "    out=np.zeros(len(x))\n",
    "    u=abs(x-mu)/scale\n",
    "    out = (1.0/(np.sqrt(2*np.pi)*scale)) * np.exp(-.5 * u**2)\n",
    "    return(out)"
   ]
  },
  {
   "cell_type": "code",
   "execution_count": 8,
   "metadata": {},
   "outputs": [],
   "source": [
    "# simulation design\n",
    "design = np.array([\n",
    "    [0.7714,    0.4286,    0.0286],\n",
    "    [0.3714,    0.1143,    0.7143],\n",
    "    [0.1714,    0.4571,    0.8857],\n",
    "    [0.3429,    0.6000,    0.8000],\n",
    "    [0.8000,    0.6286,    0.4000],\n",
    "    [0.7429,    0.5429,         0],\n",
    "    [0.6571,    1.0000,    0.6286],\n",
    "    [0.2857,         0,    0.4571],\n",
    "    [0.5143,    0.9429,    0.2286],\n",
    "    [0.6857,    0.3143,    0.6571],\n",
    "    [0.8286,    0.2000,    1.0000],\n",
    "    [0.9714,    0.3429,    0.6000],\n",
    "    [0.4000,    0.8000,    0.2000],\n",
    "    [0.5429,    0.2857,    0.2857],\n",
    "    [0.9143,    0.8857,    0.2571],\n",
    "    [0.0571,    0.0286,    0.0857],\n",
    "    [0.1143,    0.5714,    0.7429],\n",
    "    [0.2000,    0.2286,    0.3714],\n",
    "    [0.4571,    0.9143,    0.3429],\n",
    "    [0.6286,    0.7143,    0.6857],\n",
    "    [     0,    0.8286,    0.9429],\n",
    "    [0.8857,    0.0857,    0.9714],\n",
    "    [0.2286,    0.0571,    0.5714],\n",
    "    [0.7143,    0.1714,    0.8571],\n",
    "    [0.2571,    0.4857,    0.1429],\n",
    "    [0.5714,    0.4000,    0.8286],\n",
    "    [0.9429,    0.6857,    0.4857],\n",
    "    [0.4857,    0.1429,    0.1143],\n",
    "    [1.0000,    0.8571,    0.9143],\n",
    "    [0.6000,    0.6571,    0.5143],\n",
    "    [0.1429,    0.7429,    0.5429],\n",
    "    [0.8571,    0.2571,    0.0571],\n",
    "    [0.3143,    0.3714,    0.4286],\n",
    "    [0.4286,    0.7714,    0.7714],\n",
    "    [0.0286,    0.9714,    0.3143],\n",
    "    [0.0857,    0.5143,    0.1714]])\n",
    "\n",
    "# number of experiements and simulations\n",
    "n = 3; m = design.shape[0]\n",
    "\n",
    "# these parameter values simulate expt 10 in Neddermeyer '43\n",
    "# params =             [R1      lam     s         rho   mratio   u0]\n",
    "params10 = np.array([1.5*2.54, 2/3,  3e5*6.84e4,  7.5,   .32,   1.65e10])\n",
    "paramslhs = np.zeros((m, 6))\n",
    "for i in range(m):#\n",
    "    paramslhs[i,:] = params10*np.array([1, 1, design[i,1]*.2+.9, 1, design[i,0]*.65+.5, design[i,2]*.2+.9])\n",
    "# the simulation runs will vary mratio from .32*[.5 to 1.15]\n",
    "#                                s      from s0*[.9 to 1.1]\n",
    "#                                u0     from u0*[.9 to 1.1]"
   ]
  },
  {
   "cell_type": "markdown",
   "metadata": {},
   "source": [
    "### A plot of the implosion over time"
   ]
  },
  {
   "cell_type": "code",
   "execution_count": 9,
   "metadata": {},
   "outputs": [
    {
     "data": {
      "application/vnd.jupyter.widget-view+json": {
       "model_id": "2f07046265b045c7a3c9c3763ad1b79b",
       "version_major": 2,
       "version_minor": 0
      },
      "text/plain": [
       "Canvas(toolbar=Toolbar(toolitems=[('Home', 'Reset original view', 'home', 'home'), ('Back', 'Back to previous …"
      ]
     },
     "metadata": {},
     "output_type": "display_data"
    }
   ],
   "source": [
    "nt = 22; nphi = 26\n",
    "time = np.c_[np.linspace(0,5.0e-5,nt,endpoint=True)]\n",
    "phi = np.linspace(0,1,nphi,endpoint=True) * 2*np.pi;\n",
    "rinner = nedderimp(time,params10);\n",
    "lam = params10[1]; R1 = params10[0];\n",
    "router = np.sqrt(rinner**2 + 1 - lam**2);\n",
    "xycirc = np.array([np.cos(phi),np.sin(phi)]).T\n",
    "r = nedderimp(time,params10);\n",
    "\n",
    "fig, axs = plt.subplots(2,5,figsize=[10,4])\n",
    "tframes = np.arange(1,nt,2)\n",
    "time_text = ['0','1','2','3','4',r'$\\times 10^{-5} s$']\n",
    "time_x_loc = np.arange(-4,2,1)\n",
    "time_y_loc = -3.9\n",
    "for j,ax in enumerate(axs.flatten()):\n",
    "    it = tframes[j]\n",
    "    outer_circle = xycirc*router[it]*R1\n",
    "    ax.fill(outer_circle[:,0],outer_circle[:,1],c='gray')\n",
    "    inner_circle = xycirc*rinner[it]*R1\n",
    "    ax.fill(inner_circle[:,0],inner_circle[:,1],c='white')\n",
    "    ax.set_xlim([-4.5,4.5]); ax.set_ylim([-4.5,4.5])\n",
    "    for i in range(len(time_text)):\n",
    "        ax.text(time_x_loc[i],time_y_loc,time_text[i],fontsize=9)\n",
    "    ax.plot((time[0:it]/(6e-5)*6)-4,np.repeat(-4,time[0:it].shape[0]),'lightgreen',linewidth=4)\n",
    "    ax.get_xaxis().set_ticks([])\n",
    "    if j == 0 or j == 5: ax.set_ylabel('cm')\n",
    "    else: ax.get_yaxis().set_visible(False)\n",
    "        \n",
    "plt.subplots_adjust(wspace=0,hspace=0.05)\n",
    "plt.show()"
   ]
  },
  {
   "cell_type": "markdown",
   "metadata": {},
   "source": [
    "# Generate simulation data"
   ]
  },
  {
   "cell_type": "code",
   "execution_count": 10,
   "metadata": {},
   "outputs": [
    {
     "data": {
      "application/vnd.jupyter.widget-view+json": {
       "model_id": "1aea2c038cb04577ac917605fa0a364e",
       "version_major": 2,
       "version_minor": 0
      },
      "text/plain": [
       "Canvas(toolbar=Toolbar(toolitems=[('Home', 'Reset original view', 'home', 'home'), ('Back', 'Back to previous …"
      ]
     },
     "metadata": {},
     "output_type": "display_data"
    },
    {
     "name": "stderr",
     "output_type": "stream",
     "text": [
      "/Users/granthutchings/opt/anaconda3/lib/python3.7/site-packages/numpy/core/_asarray.py:136: VisibleDeprecationWarning: Creating an ndarray from ragged nested sequences (which is a list-or-tuple of lists-or-tuples-or ndarrays with different lengths or shapes) is deprecated. If you meant to do this, you must specify 'dtype=object' when creating the ndarray\n",
      "  return array(a, dtype, copy=False, order=order, subok=True)\n"
     ]
    }
   ],
   "source": [
    "fig = plt.figure(figsize=[6,12])\n",
    "ax1 = fig.add_subplot(211)\n",
    "yr = np.zeros((m,nt))\n",
    "for i in range(m):\n",
    "    params = paramslhs[i,:]\n",
    "    yr[i,:] = params[0]*nedderimp(time,params)\n",
    "    ax1.plot(time,yr[i,:],c='lightgreen')\n",
    "ax1.set_xlabel('time (s)'); ax.set_ylabel('inner radius (cm)')\n",
    "ax1.set_title('Simulation runs')\n",
    "plt.show()\n",
    "y_sim = np.tile(yr,nphi)\n",
    "ax2 = fig.add_subplot(212, projection='3d')\n",
    "example_runs = [0,1,28]\n",
    "colors = ['tomato','deepskyblue','lightgreen']\n",
    "for i in range(len(example_runs)):\n",
    "    ax2.plot_wireframe(time,phi,y_sim[example_runs[i],:].reshape(nt,nphi,order='F'),color=colors[i],alpha=.75)\n",
    "ax2.set_xlabel('time (s)'); ax2.set_ylabel('phi (angle, radians)'); ax2.set_zlabel('inner radius (cm)')\n",
    "\n",
    "# indices\n",
    "y_sim_ind_time_phi = np.zeros((22*26,2))\n",
    "y_sim_ind_time_phi[:,0] = np.repeat(time,26)\n",
    "y_sim_ind_time_phi[:,1] = np.tile(phi,22)\n",
    "x_sim = design[:,0].reshape(m,1)\n",
    "t_sim = design[:,1:3]"
   ]
  },
  {
   "cell_type": "markdown",
   "metadata": {},
   "source": [
    "# Generate observed data"
   ]
  },
  {
   "cell_type": "code",
   "execution_count": 11,
   "metadata": {},
   "outputs": [],
   "source": [
    "phi_obs = np.arange(0,(2*np.pi-.1),(2*np.pi/16))\n",
    "n_phi_obs = phi_obs.shape[0]\n",
    "time_obs = [np.array([1.5e-5, 2.7e-5, 4.5e-5]),np.array([4.5e-5]),np.array([2.5e-5, 4.5e-5])]\n",
    "n_time_obs = [tmp.shape[0] for tmp in time_obs]\n",
    "\n",
    "phiknots = np.arange(0,2*np.pi-.1,2*np.pi/8)\n",
    "dknots = np.expand_dims(np.array([.04, -.03, .03, -.03, .02, -.03, .03, -.03]),1)*2.5\n",
    "pphiknots = len(phiknots)\n",
    "Ddelt = np.zeros((phi_obs.shape[0], pphiknots));\n",
    "datadelt = np.matmul(Ddelt,dknots)\n",
    "\n",
    "# observations\n",
    "r_obs = [None]*3; y_obs = [None]*3\n",
    "for i in range(3):\n",
    "    obs_params = deepcopy(params10)\n",
    "    if i==1: obs_params[4]=.17\n",
    "    elif i==2: obs_params[4]=.36\n",
    "    r_obs[i] = np.atleast_2d(obs_params[0]*nedderimp(time_obs[i],obs_params))\n",
    "    y_obs[i] = np.tile(r_obs[i].T,phi_obs.shape[0]).reshape(n_phi_obs,n_time_obs[i]) + np.tile(datadelt,n_time_obs[i])\n",
    "    y_obs[i] = (y_obs[i] + .01*np.random.normal(size=y_obs[i].shape)).flatten()\n",
    "\n",
    "# indices of observations\n",
    "x_obs = ((np.array([params10[4], .17, .36])/.32-.5)/.65).reshape(3,1)\n",
    "y_ind_obs = [np.column_stack( ( np.concatenate((np.ones(phi_obs.shape[0])*time_obs[0][0],\\\n",
    "                                   np.ones(phi_obs.shape[0])*time_obs[0][1],\\\n",
    "                                       np.ones(phi_obs.shape[0])*time_obs[0][2])), np.tile(phi_obs,3).T ) ),\n",
    "                np.column_stack( ( (np.ones(phi_obs.shape[0])*time_obs[1]).reshape(16,1), phi_obs.T ) ),\n",
    "                np.column_stack( ( np.concatenate((np.ones(phi_obs.shape[0])*time_obs[2][0],\\\n",
    "                                   np.ones(phi_obs.shape[0])*time_obs[2][1])), np.tile(phi_obs,2).T ) )]"
   ]
  },
  {
   "cell_type": "markdown",
   "metadata": {},
   "source": [
    "### Sepia Data"
   ]
  },
  {
   "cell_type": "code",
   "execution_count": 12,
   "metadata": {},
   "outputs": [],
   "source": [
    "data = SepiaData(x_sim = x_sim, t_sim = t_sim, y_sim = y_sim, y_ind_sim = y_sim_ind_time_phi,\\\n",
    "                 x_obs = x_obs, y_obs = y_obs, y_ind_obs = y_ind_obs)\n",
    "data.transform_xt()"
   ]
  },
  {
   "cell_type": "markdown",
   "metadata": {},
   "source": [
    "### K basis"
   ]
  },
  {
   "cell_type": "code",
   "execution_count": 13,
   "metadata": {},
   "outputs": [],
   "source": [
    "# sim\n",
    "ysimmean = np.mean(y_sim,0)\n",
    "ysimsd = np.std(y_sim)\n",
    "ysimStd = (y_sim - np.tile(ysimmean,m).reshape(y_sim.shape))/ysimsd\n",
    "data.sim_data.orig_y_mean = ysimmean\n",
    "data.sim_data.orig_y_sd = ysimsd\n",
    "data.sim_data.y_std = ysimStd\n",
    "# now represent ye images using eof's\n",
    "U, s, V = np.linalg.svd(ysimStd.T, full_matrices=False)\n",
    "numPC = 3\n",
    "data.sim_data.K = U[:,0:numPC]*s[0:numPC]/np.sqrt(m)\n",
    "data.sim_data.K = data.sim_data.K.T\n",
    "\n",
    "# obs\n",
    "phimat = np.repeat(phi,nt).reshape((nt,nphi),order='F')\n",
    "timemat = np.repeat(time,nphi).reshape((nt,nphi))\n",
    "# compute simulator mean values simdat.ymean interpolated to the data values...\n",
    "interp_func = interp2d(phimat[0,:],timemat[:,0],data.sim_data.orig_y_mean.reshape((nt,nphi),order='F'))\n",
    "data.obs_data.orig_y_mean = []\n",
    "data.obs_data.orig_y_sd = []\n",
    "for k in range(n):\n",
    "    ymk = interp_func(np.unique(data.obs_data.y_ind[k][:,1]),np.unique(data.obs_data.y_ind[k][:,0]))                                                                             \n",
    "    data.obs_data.orig_y_mean.append(ymk.flatten())\n",
    "    data.obs_data.orig_y_sd.append(data.sim_data.orig_y_sd)\n",
    "\n",
    "# now compute the centered, scaled observed arrival times yStd\n",
    "data.obs_data.y_std = []\n",
    "for k in range(n):\n",
    "    data.obs_data.y_std.append((data.obs_data.y[k] - data.obs_data.orig_y_mean[k])/data.sim_data.orig_y_sd)\n",
    "\n",
    "data.obs_data.K = []\n",
    "for k in range(n):\n",
    "    data.obs_data.K.append(np.zeros((data.obs_data.y_std[k].shape[0], numPC)))\n",
    "    for j in range(numPC):\n",
    "        f = interp2d(phimat[0,:],timemat[:,0],np.reshape(data.sim_data.K[j,:],(nt,nphi),order='F'))\n",
    "        data.obs_data.K[k][:,j] = f(data.obs_data.y_ind[k][:,1],data.obs_data.y_ind[k][:,0])[:,0]\n",
    "\n",
    "for k in range(n):\n",
    "    data.obs_data.K[k] = data.obs_data.K[k].T"
   ]
  },
  {
   "cell_type": "code",
   "execution_count": 14,
   "metadata": {},
   "outputs": [],
   "source": [
    "### D basis"
   ]
  },
  {
   "cell_type": "code",
   "execution_count": 15,
   "metadata": {},
   "outputs": [],
   "source": [
    "# compute the basis functions for the discrepancy function.\n",
    "Dsim  = np.zeros((phi.shape[0], pphiknots))\n",
    "for k in range(pphiknots):\n",
    "    Ddelt[:,k] = dnorm(dist2pi(phi_obs,phiknots[k]*np.ones(phi_obs.shape[0])),0,np.pi/8).T;\n",
    "    x = dist2pi(phi,phiknots[k]*np.ones(phi.shape[0])).flatten()\n",
    "    Dsim[:,k] = dnorm(x=x,mu=0,scale=np.pi/8)\n",
    "\n",
    "simdelt = np.matmul(Dsim,dknots)\n",
    "timeknots = np.linspace(0,.5,3)*1e-4\n",
    "ptimeknots=len(timeknots)\n",
    "data.obs_data.D = []\n",
    "for k in range(n):\n",
    "    knotlocstime = np.reshape(np.repeat(timeknots,pphiknots),(ptimeknots*pphiknots, 1))\n",
    "    knotlocsphi = np.expand_dims(np.tile(phiknots,ptimeknots),1)\n",
    "    pv = knotlocstime.shape[0]\n",
    "    Dobs = np.zeros((data.obs_data.y_std[k].shape[0], pv))\n",
    "    if k == 0: Dsim = np.zeros((data.sim_data.y_std.shape[1], pv))\n",
    "    for j in range(pv):\n",
    "        Dobs[:,j] = dnorm(y_ind_obs[k][:,0],knotlocstime[j],.25*1e-4)*\\\n",
    "            dnorm(dist2pi(y_ind_obs[k][:,1],knotlocsphi[j]*np.ones(y_ind_obs[k][:,1].shape[0])),0,np.pi/8)\n",
    "        if k == 0:\n",
    "            Dsim[:,j] = dnorm(timemat.flatten('F'),knotlocstime[j],.25*1e-4)*\\\n",
    "                dnorm(dist2pi(phimat.flatten('F'),knotlocsphi[j]*np.ones(len(phimat.flatten()))),0,np.pi/8)\n",
    "    if k == 0: data.sim_data.D = Dsim\n",
    "    data.obs_data.D.append(Dobs.T)\n",
    "# now normalize Dobs and Dsim so that it gives a var=1 process\n",
    "dmax = np.amax(np.amax(np.matmul(data.sim_data.D,data.sim_data.D.T)))\n",
    "for k in range(n):\n",
    "    data.obs_data.D[k] /= np.sqrt(dmax)\n",
    "data.sim_data.D /= np.sqrt(dmax)"
   ]
  },
  {
   "cell_type": "code",
   "execution_count": 16,
   "metadata": {},
   "outputs": [
    {
     "data": {
      "application/vnd.jupyter.widget-view+json": {
       "model_id": "4661c9e90e1247fea5a27f50bd88e5a5",
       "version_major": 2,
       "version_minor": 0
      },
      "text/plain": [
       "Canvas(toolbar=Toolbar(toolitems=[('Home', 'Reset original view', 'home', 'home'), ('Back', 'Back to previous …"
      ]
     },
     "metadata": {},
     "output_type": "display_data"
    },
    {
     "data": {
      "application/vnd.jupyter.widget-view+json": {
       "model_id": "640c70e98f874528901656db5e380921",
       "version_major": 2,
       "version_minor": 0
      },
      "text/plain": [
       "Canvas(toolbar=Toolbar(toolitems=[('Home', 'Reset original view', 'home', 'home'), ('Back', 'Back to previous …"
      ]
     },
     "metadata": {},
     "output_type": "display_data"
    }
   ],
   "source": [
    "data.plot_K_weights()"
   ]
  },
  {
   "cell_type": "code",
   "execution_count": 17,
   "metadata": {},
   "outputs": [
    {
     "data": {
      "application/vnd.jupyter.widget-view+json": {
       "model_id": "8fa67ee344f84c9ab75a87af248ec5a0",
       "version_major": 2,
       "version_minor": 0
      },
      "text/plain": [
       "Canvas(toolbar=Toolbar(toolitems=[('Home', 'Reset original view', 'home', 'home'), ('Back', 'Back to previous …"
      ]
     },
     "metadata": {},
     "output_type": "display_data"
    }
   ],
   "source": [
    "# plot K basis (simulation)\n",
    "x,y = np.meshgrid(phi,time)\n",
    "from mpl_toolkits.mplot3d import Axes3D\n",
    "fig = plt.figure(figsize=plt.figaspect(0.5))\n",
    "for i in range(3):\n",
    "    ax = fig.add_subplot(1, 3, i+1, projection='3d')\n",
    "    ax.plot_surface(x,y,data.sim_data.K[i,:].reshape((22,26),order='F'))\n",
    "    ax.set_zlim([-1.5,.5])\n",
    "    ax.view_init(20, 30)"
   ]
  },
  {
   "cell_type": "code",
   "execution_count": 18,
   "metadata": {},
   "outputs": [
    {
     "data": {
      "application/vnd.jupyter.widget-view+json": {
       "model_id": "74e22c1ce23b4b35b99b7f646e79df80",
       "version_major": 2,
       "version_minor": 0
      },
      "text/plain": [
       "Canvas(toolbar=Toolbar(toolitems=[('Home', 'Reset original view', 'home', 'home'), ('Back', 'Back to previous …"
      ]
     },
     "metadata": {},
     "output_type": "display_data"
    }
   ],
   "source": [
    "# plot D basis\n",
    "fig, axs = plt.subplots(3,8,figsize=[16,6],sharex=True,sharey=True)\n",
    "x,y = np.meshgrid(phi,time)\n",
    "for i,ax in enumerate(axs.flatten()):\n",
    "    ax.pcolormesh(x, y, data.sim_data.D[:,i].reshape((22,26),order='F'),cmap='seismic')\n",
    "    ax.axes.xaxis.set_visible(False)\n",
    "    ax.axes.yaxis.set_visible(False)\n",
    "plt.xlabel(r\"angle \\phi\")\n",
    "plt.ylabel(\"time\")\n",
    "plt.show()"
   ]
  },
  {
   "cell_type": "code",
   "execution_count": 19,
   "metadata": {},
   "outputs": [
    {
     "name": "stdout",
     "output_type": "stream",
     "text": [
      "Plotting up to 5 pairs. Change with parameter 'max_plots'\n"
     ]
    },
    {
     "data": {
      "application/vnd.jupyter.widget-view+json": {
       "model_id": "3e87d7c0502e48419a5da4156dc64090",
       "version_major": 2,
       "version_minor": 0
      },
      "text/plain": [
       "Canvas(toolbar=Toolbar(toolitems=[('Home', 'Reset original view', 'home', 'home'), ('Back', 'Back to previous …"
      ]
     },
     "metadata": {},
     "output_type": "display_data"
    }
   ],
   "source": [
    "data.plot_u_w_pairs()"
   ]
  },
  {
   "cell_type": "code",
   "execution_count": 20,
   "metadata": {},
   "outputs": [
    {
     "name": "stdout",
     "output_type": "stream",
     "text": [
      "This SepiaData instance implies the following:\n",
      "This is a simulator and obs model, sim y dimension 572, obs y dimension ragged\n",
      "n  =     3 (number of observed data)\n",
      "m  =    36 (number of simulated data)\n",
      "p  =     1 (number of inputs)\n",
      "q  =     2 (number of additional simulation inputs to calibrate)\n",
      "pu =     3 (transformed response dimension)\n",
      "pv =    24 (transformed discrepancy dimension)\n",
      "\n"
     ]
    }
   ],
   "source": [
    "print(data)\n",
    "model = setup_model(data)"
   ]
  },
  {
   "cell_type": "code",
   "execution_count": 21,
   "metadata": {},
   "outputs": [
    {
     "data": {
      "application/vnd.jupyter.widget-view+json": {
       "model_id": "c4564a39d59043dd9a213872b3ce091a",
       "version_major": 2,
       "version_minor": 0
      },
      "text/plain": [
       "Canvas(toolbar=Toolbar(toolitems=[('Home', 'Reset original view', 'home', 'home'), ('Back', 'Back to previous …"
      ]
     },
     "metadata": {},
     "output_type": "display_data"
    },
    {
     "data": {
      "application/vnd.jupyter.widget-view+json": {
       "model_id": "92ada449423940079e55e477527e8571",
       "version_major": 2,
       "version_minor": 0
      },
      "text/plain": [
       "Canvas(toolbar=Toolbar(toolitems=[('Home', 'Reset original view', 'home', 'home'), ('Back', 'Back to previous …"
      ]
     },
     "metadata": {},
     "output_type": "display_data"
    }
   ],
   "source": [
    "override=0\n",
    "cachefile_name='neddermeyer.pkl'\n",
    "import os.path\n",
    "import pickle\n",
    "if os.path.isfile(cachefile_name) and override==0:\n",
    "   model=pickle.load(open(cachefile_name, \"rb\" ))\n",
    "else:\n",
    "    model.tune_step_sizes(50, 20)\n",
    "    model.do_mcmc(5000)\n",
    "    pickle.dump(model, open( cachefile_name, \"w+b\" ))\n",
    "\n",
    "samples_dict = {p.name: p.mcmc_to_array(trim=1000) for p in model.params.mcmcList}\n",
    "SepiaPlot.theta_pairs(samples_dict)\n",
    "SepiaPlot.mcmc_trace(samples_dict,start=1000,n_to_plot=1000,max_print=5)"
   ]
  },
  {
   "cell_type": "code",
   "execution_count": 22,
   "metadata": {},
   "outputs": [],
   "source": [
    "model.verbose=True\n",
    "from sepia.SepiaPredict import SepiaEmulatorPrediction \n",
    "pred_samples=model.get_samples(numsamples=25)\n",
    "pred=SepiaEmulatorPrediction(x_pred=x_obs, samples=pred_samples, model=model)"
   ]
  },
  {
   "cell_type": "markdown",
   "metadata": {},
   "source": [
    "Predicted emulator principle component weights for each of the three experimental inputs x"
   ]
  },
  {
   "cell_type": "code",
   "execution_count": 23,
   "metadata": {},
   "outputs": [
    {
     "data": {
      "application/vnd.jupyter.widget-view+json": {
       "model_id": "6c0fd574b5514b53aec65e90eb831878",
       "version_major": 2,
       "version_minor": 0
      },
      "text/plain": [
       "Canvas(toolbar=Toolbar(toolitems=[('Home', 'Reset original view', 'home', 'home'), ('Back', 'Back to previous …"
      ]
     },
     "metadata": {},
     "output_type": "display_data"
    }
   ],
   "source": [
    "predw=pred.get_w()\n",
    "plt.figure()\n",
    "colors = ['r','g','b']\n",
    "for i in range(3):\n",
    "    plt.plot(np.mean(predw,0).T[:,i],'--o',c=colors[i],label='x = {}'.format(np.round(float(x_obs[i]),3)))\n",
    "plt.legend()\n",
    "plt.xlabel('PCA weights w')\n",
    "plt.ylabel('w value for each predicted x \\n mean over samples')\n",
    "plt.show()"
   ]
  },
  {
   "cell_type": "markdown",
   "metadata": {},
   "source": [
    "Predicted Simulator Output"
   ]
  },
  {
   "cell_type": "code",
   "execution_count": 24,
   "metadata": {},
   "outputs": [
    {
     "data": {
      "application/vnd.jupyter.widget-view+json": {
       "model_id": "80386381232f474e854bf692a364613e",
       "version_major": 2,
       "version_minor": 0
      },
      "text/plain": [
       "Canvas(toolbar=Toolbar(toolitems=[('Home', 'Reset original view', 'home', 'home'), ('Back', 'Back to previous …"
      ]
     },
     "metadata": {},
     "output_type": "display_data"
    },
    {
     "name": "stderr",
     "output_type": "stream",
     "text": [
      "/Users/granthutchings/opt/anaconda3/lib/python3.7/site-packages/numpy/core/_asarray.py:136: VisibleDeprecationWarning: Creating an ndarray from ragged nested sequences (which is a list-or-tuple of lists-or-tuples-or ndarrays with different lengths or shapes) is deprecated. If you meant to do this, you must specify 'dtype=object' when creating the ndarray\n",
      "  return array(a, dtype, copy=False, order=order, subok=True)\n"
     ]
    }
   ],
   "source": [
    "pred_time, pred_phi = np.meshgrid(time,phi)\n",
    "predy=pred.get_y_native()\n",
    "\n",
    "fig = plt.figure(figsize=[12,6])\n",
    "for i in range(3):\n",
    "    ax = fig.add_subplot(1,3,i+1,projection='3d')\n",
    "    ax.scatter(xs = y_ind_obs[i][:,0], ys = y_ind_obs[i][:,1], zs = y_obs[i],color='k')\n",
    "    ax.plot_wireframe(pred_time,pred_phi,np.mean(predy,0)[i,:].reshape(26,22),\n",
    "                      alpha=.5)"
   ]
  },
  {
   "cell_type": "markdown",
   "metadata": {},
   "source": [
    "Predicted "
   ]
  },
  {
   "cell_type": "code",
   "execution_count": 25,
   "metadata": {},
   "outputs": [],
   "source": [
    "model.data.obs_data.orig_y_sd = data.obs_data.orig_y_sd # BUG: must explicitly set obs_data.orig_y_sd again in model object\n",
    "from sepia.SepiaPredict import SepiaFullPrediction\n",
    "predfull = []\n",
    "for i in range(3):\n",
    "    predfull.append(SepiaFullPrediction(x_pred=np.atleast_2d(x_obs[i]), samples=pred_samples, model=model))"
   ]
  },
  {
   "cell_type": "code",
   "execution_count": 26,
   "metadata": {},
   "outputs": [],
   "source": [
    "pred_d = []\n",
    "pred_sim = []\n",
    "pred_obs = []\n",
    "for i in range(3):\n",
    "    pred_d.append(predfull[i].get_discrepancy_simgrid())\n",
    "    pred_sim.append(predfull[i].get_ysim_native())\n",
    "    pred_obs.append(predfull[i].get_yobs_native(i))\n",
    "sim_grid_shape = (26,22)"
   ]
  },
  {
   "cell_type": "code",
   "execution_count": 27,
   "metadata": {},
   "outputs": [
    {
     "data": {
      "application/vnd.jupyter.widget-view+json": {
       "model_id": "faaff71bea5f4136bd386f8fbc9d4727",
       "version_major": 2,
       "version_minor": 0
      },
      "text/plain": [
       "Canvas(toolbar=Toolbar(toolitems=[('Home', 'Reset original view', 'home', 'home'), ('Back', 'Back to previous …"
      ]
     },
     "metadata": {},
     "output_type": "display_data"
    }
   ],
   "source": [
    "full_pred = []\n",
    "for i in range(3):\n",
    "    full_pred.append(pred_sim[i] + pred_d[i])\n",
    "quant_diff = []\n",
    "for i in range(3):\n",
    "    quant_diff.append(np.abs(np.quantile(full_pred[i],.95,0)-np.quantile(full_pred[i],.05,0)))\n",
    "#c_min = min([np.amin(tmp) for tmp in quant_diff])\n",
    "#c_max = max([np.amax(tmp) for tmp in quant_diff])\n",
    "\n",
    "fig = plt.figure(figsize=[12,12])\n",
    "for i in range(9):\n",
    "    ax = fig.add_subplot(3,3,i+1,projection='3d')\n",
    "    if i in [0,1,2]:\n",
    "        ax.scatter(xs = y_ind_obs[i][:,0], ys = y_ind_obs[i][:,1], zs = y_obs[i],color='k')\n",
    "        ax.plot_wireframe(pred_time,pred_phi,np.mean(pred_sim[i],0).reshape(sim_grid_shape),alpha=.5)\n",
    "    elif i in [3,4,5]:\n",
    "        ax.plot_wireframe(pred_time,pred_phi,np.mean(pred_d[i-3],0).reshape(sim_grid_shape),alpha=.5)\n",
    "    else:\n",
    "        ax.scatter(xs = y_ind_obs[i-6][:,0], ys = y_ind_obs[i-6][:,1], zs = y_obs[i-6],color='k')\n",
    "        ax.plot_wireframe(pred_time,pred_phi,np.mean(full_pred[i-6],0).reshape(sim_grid_shape),alpha=.5)\n",
    "plt.show()"
   ]
  }
 ],
 "metadata": {
  "kernelspec": {
   "display_name": "Python 3",
   "language": "python",
   "name": "python3"
  },
  "language_info": {
   "codemirror_mode": {
    "name": "ipython",
    "version": 3
   },
   "file_extension": ".py",
   "mimetype": "text/x-python",
   "name": "python",
   "nbconvert_exporter": "python",
   "pygments_lexer": "ipython3",
   "version": "3.7.6"
  },
  "widgets": {
   "application/vnd.jupyter.widget-state+json": {
    "state": {
     "030e8bcc5907466b9d0150024a0a2f9d": {
      "model_module": "@jupyter-widgets/base",
      "model_module_version": "1.2.0",
      "model_name": "LayoutModel",
      "state": {}
     },
     "03109b2256f145e7a492908140caeae7": {
      "model_module": "jupyter-matplotlib",
      "model_module_version": "^0.7.3",
      "model_name": "ToolbarModel",
      "state": {
       "layout": "IPY_MODEL_ebe631d6f69e401f824fd69e9a6c0bd8",
       "toolitems": [
        [
         "Home",
         "Reset original view",
         "home",
         "home"
        ],
        [
         "Back",
         "Back to previous view",
         "arrow-left",
         "back"
        ],
        [
         "Forward",
         "Forward to next view",
         "arrow-right",
         "forward"
        ],
        [
         "Pan",
         "Pan axes with left mouse, zoom with right",
         "arrows",
         "pan"
        ],
        [
         "Zoom",
         "Zoom to rectangle",
         "square-o",
         "zoom"
        ],
        [
         "Download",
         "Download plot",
         "floppy-o",
         "save_figure"
        ]
       ]
      }
     },
     "1aea2c038cb04577ac917605fa0a364e": {
      "model_module": "jupyter-matplotlib",
      "model_module_version": "^0.7.3",
      "model_name": "MPLCanvasModel",
      "state": {
       "_cursor": "default",
       "_figure_label": "Figure 2",
       "_height": 1200,
       "_image_mode": "diff",
       "_message": "x=4.64288e-05 , y=3.26147     , z=0.403623    ",
       "_width": 600,
       "layout": "IPY_MODEL_030e8bcc5907466b9d0150024a0a2f9d",
       "toolbar": "IPY_MODEL_03109b2256f145e7a492908140caeae7",
       "toolbar_position": "left"
      }
     },
     "1e60a0fc6b90499c9472012d38b03c7a": {
      "model_module": "@jupyter-widgets/base",
      "model_module_version": "1.2.0",
      "model_name": "LayoutModel",
      "state": {}
     },
     "1eefcbd5305c4077924488a54ecbb556": {
      "model_module": "jupyter-matplotlib",
      "model_module_version": "^0.7.3",
      "model_name": "ToolbarModel",
      "state": {
       "layout": "IPY_MODEL_478153b5a9954d21b4b325b578ca4593",
       "toolitems": [
        [
         "Home",
         "Reset original view",
         "home",
         "home"
        ],
        [
         "Back",
         "Back to previous view",
         "arrow-left",
         "back"
        ],
        [
         "Forward",
         "Forward to next view",
         "arrow-right",
         "forward"
        ],
        [
         "Pan",
         "Pan axes with left mouse, zoom with right",
         "arrows",
         "pan"
        ],
        [
         "Zoom",
         "Zoom to rectangle",
         "square-o",
         "zoom"
        ],
        [
         "Download",
         "Download plot",
         "floppy-o",
         "save_figure"
        ]
       ]
      }
     },
     "2c8d23bfab6446b39c787ee692f87fed": {
      "model_module": "@jupyter-widgets/base",
      "model_module_version": "1.2.0",
      "model_name": "LayoutModel",
      "state": {}
     },
     "2f07046265b045c7a3c9c3763ad1b79b": {
      "model_module": "jupyter-matplotlib",
      "model_module_version": "^0.7.3",
      "model_name": "MPLCanvasModel",
      "state": {
       "_cursor": "default",
       "_figure_label": "Figure 1",
       "_height": 443,
       "_image_mode": "diff",
       "_rubberband_y": 443,
       "_width": 1114,
       "layout": "IPY_MODEL_97c73755879c4b899d2e4691fc87dbf0",
       "toolbar": "IPY_MODEL_e10bc2c34afe458bb85235323b8fdfc5",
       "toolbar_position": "left"
      }
     },
     "33aabd7aa30b4005aff6fcad7efe1f3c": {
      "model_module": "jupyter-matplotlib",
      "model_module_version": "^0.7.3",
      "model_name": "ToolbarModel",
      "state": {
       "layout": "IPY_MODEL_cf44e9870f2b48e082657e35cf23d416",
       "toolitems": [
        [
         "Home",
         "Reset original view",
         "home",
         "home"
        ],
        [
         "Back",
         "Back to previous view",
         "arrow-left",
         "back"
        ],
        [
         "Forward",
         "Forward to next view",
         "arrow-right",
         "forward"
        ],
        [
         "Pan",
         "Pan axes with left mouse, zoom with right",
         "arrows",
         "pan"
        ],
        [
         "Zoom",
         "Zoom to rectangle",
         "square-o",
         "zoom"
        ],
        [
         "Download",
         "Download plot",
         "floppy-o",
         "save_figure"
        ]
       ]
      }
     },
     "39ae4da660c7493290ccef5ff6da7fac": {
      "model_module": "jupyter-matplotlib",
      "model_module_version": "^0.7.3",
      "model_name": "ToolbarModel",
      "state": {
       "layout": "IPY_MODEL_94113e83e4c74cfd99a1120f15305381",
       "toolitems": [
        [
         "Home",
         "Reset original view",
         "home",
         "home"
        ],
        [
         "Back",
         "Back to previous view",
         "arrow-left",
         "back"
        ],
        [
         "Forward",
         "Forward to next view",
         "arrow-right",
         "forward"
        ],
        [
         "Pan",
         "Pan axes with left mouse, zoom with right",
         "arrows",
         "pan"
        ],
        [
         "Zoom",
         "Zoom to rectangle",
         "square-o",
         "zoom"
        ],
        [
         "Download",
         "Download plot",
         "floppy-o",
         "save_figure"
        ]
       ]
      }
     },
     "3e87d7c0502e48419a5da4156dc64090": {
      "model_module": "jupyter-matplotlib",
      "model_module_version": "^0.7.3",
      "model_name": "MPLCanvasModel",
      "state": {
       "_cursor": "default",
       "_figure_label": "Figure 7",
       "_height": 750,
       "_image_mode": "diff",
       "_width": 750,
       "layout": "IPY_MODEL_44be5184098a4fbbbbf821ae5630b81a",
       "toolbar": "IPY_MODEL_c8234e5f37b14c0d8e9bfda32c732579",
       "toolbar_position": "left"
      }
     },
     "44a653ecc66a4ac1844845595cd8d1f9": {
      "model_module": "@jupyter-widgets/base",
      "model_module_version": "1.2.0",
      "model_name": "LayoutModel",
      "state": {}
     },
     "44be5184098a4fbbbbf821ae5630b81a": {
      "model_module": "@jupyter-widgets/base",
      "model_module_version": "1.2.0",
      "model_name": "LayoutModel",
      "state": {}
     },
     "4661c9e90e1247fea5a27f50bd88e5a5": {
      "model_module": "jupyter-matplotlib",
      "model_module_version": "^0.7.3",
      "model_name": "MPLCanvasModel",
      "state": {
       "_cursor": "default",
       "_figure_label": "Figure 3",
       "_height": 200,
       "_image_mode": "diff",
       "_width": 1000,
       "layout": "IPY_MODEL_814f983b0cbc42e884568b8214211d2d",
       "toolbar": "IPY_MODEL_39ae4da660c7493290ccef5ff6da7fac",
       "toolbar_position": "left"
      }
     },
     "478153b5a9954d21b4b325b578ca4593": {
      "model_module": "@jupyter-widgets/base",
      "model_module_version": "1.2.0",
      "model_name": "LayoutModel",
      "state": {}
     },
     "481c02382f1f4f0ba4306752d967f316": {
      "model_module": "@jupyter-widgets/base",
      "model_module_version": "1.2.0",
      "model_name": "LayoutModel",
      "state": {}
     },
     "4997b2e75b1c4885b9c1995ea84aba5a": {
      "model_module": "@jupyter-widgets/base",
      "model_module_version": "1.2.0",
      "model_name": "LayoutModel",
      "state": {}
     },
     "4d5bbc1faaf6421dbb2496ade0230288": {
      "model_module": "jupyter-matplotlib",
      "model_module_version": "^0.7.3",
      "model_name": "ToolbarModel",
      "state": {
       "layout": "IPY_MODEL_1e60a0fc6b90499c9472012d38b03c7a",
       "toolitems": [
        [
         "Home",
         "Reset original view",
         "home",
         "home"
        ],
        [
         "Back",
         "Back to previous view",
         "arrow-left",
         "back"
        ],
        [
         "Forward",
         "Forward to next view",
         "arrow-right",
         "forward"
        ],
        [
         "Pan",
         "Pan axes with left mouse, zoom with right",
         "arrows",
         "pan"
        ],
        [
         "Zoom",
         "Zoom to rectangle",
         "square-o",
         "zoom"
        ],
        [
         "Download",
         "Download plot",
         "floppy-o",
         "save_figure"
        ]
       ]
      }
     },
     "63eabb6a3b944d7e9a4b4b6e252d7e2e": {
      "model_module": "@jupyter-widgets/base",
      "model_module_version": "1.2.0",
      "model_name": "LayoutModel",
      "state": {}
     },
     "640c70e98f874528901656db5e380921": {
      "model_module": "jupyter-matplotlib",
      "model_module_version": "^0.7.3",
      "model_name": "MPLCanvasModel",
      "state": {
       "_cursor": "default",
       "_figure_label": "Figure 4",
       "_height": 1000,
       "_image_mode": "diff",
       "_width": 1000,
       "layout": "IPY_MODEL_8eaa9972e49d46758551bdbf19fe5c3b",
       "toolbar": "IPY_MODEL_cbd05345f7ab47fa83ee479594d4a524",
       "toolbar_position": "left"
      }
     },
     "66a0267457f847579e900408499a2a1e": {
      "model_module": "@jupyter-widgets/base",
      "model_module_version": "1.2.0",
      "model_name": "LayoutModel",
      "state": {}
     },
     "6aae4aa617a14adb98e949d52e5296de": {
      "model_module": "jupyter-matplotlib",
      "model_module_version": "^0.7.3",
      "model_name": "ToolbarModel",
      "state": {
       "layout": "IPY_MODEL_66a0267457f847579e900408499a2a1e",
       "toolitems": [
        [
         "Home",
         "Reset original view",
         "home",
         "home"
        ],
        [
         "Back",
         "Back to previous view",
         "arrow-left",
         "back"
        ],
        [
         "Forward",
         "Forward to next view",
         "arrow-right",
         "forward"
        ],
        [
         "Pan",
         "Pan axes with left mouse, zoom with right",
         "arrows",
         "pan"
        ],
        [
         "Zoom",
         "Zoom to rectangle",
         "square-o",
         "zoom"
        ],
        [
         "Download",
         "Download plot",
         "floppy-o",
         "save_figure"
        ]
       ]
      }
     },
     "6c0fd574b5514b53aec65e90eb831878": {
      "model_module": "jupyter-matplotlib",
      "model_module_version": "^0.7.3",
      "model_name": "MPLCanvasModel",
      "state": {
       "_cursor": "default",
       "_figure_label": "Figure 10",
       "_height": 480,
       "_image_mode": "diff",
       "_width": 640,
       "layout": "IPY_MODEL_4997b2e75b1c4885b9c1995ea84aba5a",
       "toolbar": "IPY_MODEL_6aae4aa617a14adb98e949d52e5296de",
       "toolbar_position": "left"
      }
     },
     "74e22c1ce23b4b35b99b7f646e79df80": {
      "model_module": "jupyter-matplotlib",
      "model_module_version": "^0.7.3",
      "model_name": "MPLCanvasModel",
      "state": {
       "_cursor": "default",
       "_figure_label": "Figure 6",
       "_height": 600,
       "_image_mode": "diff",
       "_width": 1600,
       "layout": "IPY_MODEL_de7efad9c0464e4ea76e30f5bfb4fd98",
       "toolbar": "IPY_MODEL_33aabd7aa30b4005aff6fcad7efe1f3c",
       "toolbar_position": "left"
      }
     },
     "7e1abba0b57846d2a2f52a5befb96d5e": {
      "model_module": "@jupyter-widgets/base",
      "model_module_version": "1.2.0",
      "model_name": "LayoutModel",
      "state": {}
     },
     "80386381232f474e854bf692a364613e": {
      "model_module": "jupyter-matplotlib",
      "model_module_version": "^0.7.3",
      "model_name": "MPLCanvasModel",
      "state": {
       "_cursor": "default",
       "_figure_label": "Figure 11",
       "_height": 600,
       "_image_mode": "diff",
       "_message": "x=3.13605e-05 , y=6.78804     , z=0.799826    ",
       "_width": 1200,
       "layout": "IPY_MODEL_f5e64d8aa89d4b9082d0386113340c6f",
       "toolbar": "IPY_MODEL_4d5bbc1faaf6421dbb2496ade0230288",
       "toolbar_position": "left"
      }
     },
     "814f983b0cbc42e884568b8214211d2d": {
      "model_module": "@jupyter-widgets/base",
      "model_module_version": "1.2.0",
      "model_name": "LayoutModel",
      "state": {}
     },
     "8eaa9972e49d46758551bdbf19fe5c3b": {
      "model_module": "@jupyter-widgets/base",
      "model_module_version": "1.2.0",
      "model_name": "LayoutModel",
      "state": {}
     },
     "8fa67ee344f84c9ab75a87af248ec5a0": {
      "model_module": "jupyter-matplotlib",
      "model_module_version": "^0.7.3",
      "model_name": "MPLCanvasModel",
      "state": {
       "_cursor": "default",
       "_figure_label": "Figure 5",
       "_height": 480,
       "_image_mode": "diff",
       "_width": 960,
       "layout": "IPY_MODEL_44a653ecc66a4ac1844845595cd8d1f9",
       "toolbar": "IPY_MODEL_978577c5c41d485ba57fb0554842d9cf",
       "toolbar_position": "left"
      }
     },
     "92ada449423940079e55e477527e8571": {
      "model_module": "jupyter-matplotlib",
      "model_module_version": "^0.7.3",
      "model_name": "MPLCanvasModel",
      "state": {
       "_cursor": "default",
       "_figure_label": "Figure 9",
       "_height": 1200,
       "_image_mode": "diff",
       "_width": 1000,
       "layout": "IPY_MODEL_c2ce6a962dae496c8bff8b292351e49c",
       "toolbar": "IPY_MODEL_b8b190767c0a45a6888880fdc8faf923",
       "toolbar_position": "left"
      }
     },
     "94113e83e4c74cfd99a1120f15305381": {
      "model_module": "@jupyter-widgets/base",
      "model_module_version": "1.2.0",
      "model_name": "LayoutModel",
      "state": {}
     },
     "978577c5c41d485ba57fb0554842d9cf": {
      "model_module": "jupyter-matplotlib",
      "model_module_version": "^0.7.3",
      "model_name": "ToolbarModel",
      "state": {
       "layout": "IPY_MODEL_63eabb6a3b944d7e9a4b4b6e252d7e2e",
       "toolitems": [
        [
         "Home",
         "Reset original view",
         "home",
         "home"
        ],
        [
         "Back",
         "Back to previous view",
         "arrow-left",
         "back"
        ],
        [
         "Forward",
         "Forward to next view",
         "arrow-right",
         "forward"
        ],
        [
         "Pan",
         "Pan axes with left mouse, zoom with right",
         "arrows",
         "pan"
        ],
        [
         "Zoom",
         "Zoom to rectangle",
         "square-o",
         "zoom"
        ],
        [
         "Download",
         "Download plot",
         "floppy-o",
         "save_figure"
        ]
       ]
      }
     },
     "97c73755879c4b899d2e4691fc87dbf0": {
      "model_module": "@jupyter-widgets/base",
      "model_module_version": "1.2.0",
      "model_name": "LayoutModel",
      "state": {}
     },
     "b8b190767c0a45a6888880fdc8faf923": {
      "model_module": "jupyter-matplotlib",
      "model_module_version": "^0.7.3",
      "model_name": "ToolbarModel",
      "state": {
       "layout": "IPY_MODEL_dff317d35388413b9d86ad2e899e24be",
       "toolitems": [
        [
         "Home",
         "Reset original view",
         "home",
         "home"
        ],
        [
         "Back",
         "Back to previous view",
         "arrow-left",
         "back"
        ],
        [
         "Forward",
         "Forward to next view",
         "arrow-right",
         "forward"
        ],
        [
         "Pan",
         "Pan axes with left mouse, zoom with right",
         "arrows",
         "pan"
        ],
        [
         "Zoom",
         "Zoom to rectangle",
         "square-o",
         "zoom"
        ],
        [
         "Download",
         "Download plot",
         "floppy-o",
         "save_figure"
        ]
       ]
      }
     },
     "c1da5acce81a4deaaa195fcfca821d32": {
      "model_module": "@jupyter-widgets/base",
      "model_module_version": "1.2.0",
      "model_name": "LayoutModel",
      "state": {}
     },
     "c2ce6a962dae496c8bff8b292351e49c": {
      "model_module": "@jupyter-widgets/base",
      "model_module_version": "1.2.0",
      "model_name": "LayoutModel",
      "state": {}
     },
     "c4564a39d59043dd9a213872b3ce091a": {
      "model_module": "jupyter-matplotlib",
      "model_module_version": "^0.7.3",
      "model_name": "MPLCanvasModel",
      "state": {
       "_cursor": "default",
       "_figure_label": "Figure 8",
       "_height": 500,
       "_image_mode": "diff",
       "_message": "x=0.528943     y=5.33447     ",
       "_width": 500,
       "layout": "IPY_MODEL_f9bb7ba60d76465da23ef3e20dbe8b2f",
       "toolbar": "IPY_MODEL_1eefcbd5305c4077924488a54ecbb556",
       "toolbar_position": "left"
      }
     },
     "c66699cb2cf14eb495a102773cbad6ba": {
      "model_module": "jupyter-matplotlib",
      "model_module_version": "^0.7.3",
      "model_name": "ToolbarModel",
      "state": {
       "layout": "IPY_MODEL_481c02382f1f4f0ba4306752d967f316",
       "toolitems": [
        [
         "Home",
         "Reset original view",
         "home",
         "home"
        ],
        [
         "Back",
         "Back to previous view",
         "arrow-left",
         "back"
        ],
        [
         "Forward",
         "Forward to next view",
         "arrow-right",
         "forward"
        ],
        [
         "Pan",
         "Pan axes with left mouse, zoom with right",
         "arrows",
         "pan"
        ],
        [
         "Zoom",
         "Zoom to rectangle",
         "square-o",
         "zoom"
        ],
        [
         "Download",
         "Download plot",
         "floppy-o",
         "save_figure"
        ]
       ]
      }
     },
     "c8234e5f37b14c0d8e9bfda32c732579": {
      "model_module": "jupyter-matplotlib",
      "model_module_version": "^0.7.3",
      "model_name": "ToolbarModel",
      "state": {
       "layout": "IPY_MODEL_2c8d23bfab6446b39c787ee692f87fed",
       "toolitems": [
        [
         "Home",
         "Reset original view",
         "home",
         "home"
        ],
        [
         "Back",
         "Back to previous view",
         "arrow-left",
         "back"
        ],
        [
         "Forward",
         "Forward to next view",
         "arrow-right",
         "forward"
        ],
        [
         "Pan",
         "Pan axes with left mouse, zoom with right",
         "arrows",
         "pan"
        ],
        [
         "Zoom",
         "Zoom to rectangle",
         "square-o",
         "zoom"
        ],
        [
         "Download",
         "Download plot",
         "floppy-o",
         "save_figure"
        ]
       ]
      }
     },
     "cbd05345f7ab47fa83ee479594d4a524": {
      "model_module": "jupyter-matplotlib",
      "model_module_version": "^0.7.3",
      "model_name": "ToolbarModel",
      "state": {
       "layout": "IPY_MODEL_7e1abba0b57846d2a2f52a5befb96d5e",
       "toolitems": [
        [
         "Home",
         "Reset original view",
         "home",
         "home"
        ],
        [
         "Back",
         "Back to previous view",
         "arrow-left",
         "back"
        ],
        [
         "Forward",
         "Forward to next view",
         "arrow-right",
         "forward"
        ],
        [
         "Pan",
         "Pan axes with left mouse, zoom with right",
         "arrows",
         "pan"
        ],
        [
         "Zoom",
         "Zoom to rectangle",
         "square-o",
         "zoom"
        ],
        [
         "Download",
         "Download plot",
         "floppy-o",
         "save_figure"
        ]
       ]
      }
     },
     "cf44e9870f2b48e082657e35cf23d416": {
      "model_module": "@jupyter-widgets/base",
      "model_module_version": "1.2.0",
      "model_name": "LayoutModel",
      "state": {}
     },
     "dd4a42c1d37e4d78bf06db29c2217bb2": {
      "model_module": "@jupyter-widgets/base",
      "model_module_version": "1.2.0",
      "model_name": "LayoutModel",
      "state": {}
     },
     "de7efad9c0464e4ea76e30f5bfb4fd98": {
      "model_module": "@jupyter-widgets/base",
      "model_module_version": "1.2.0",
      "model_name": "LayoutModel",
      "state": {}
     },
     "dff317d35388413b9d86ad2e899e24be": {
      "model_module": "@jupyter-widgets/base",
      "model_module_version": "1.2.0",
      "model_name": "LayoutModel",
      "state": {}
     },
     "e10bc2c34afe458bb85235323b8fdfc5": {
      "model_module": "jupyter-matplotlib",
      "model_module_version": "^0.7.3",
      "model_name": "ToolbarModel",
      "state": {
       "layout": "IPY_MODEL_c1da5acce81a4deaaa195fcfca821d32",
       "toolitems": [
        [
         "Home",
         "Reset original view",
         "home",
         "home"
        ],
        [
         "Back",
         "Back to previous view",
         "arrow-left",
         "back"
        ],
        [
         "Forward",
         "Forward to next view",
         "arrow-right",
         "forward"
        ],
        [
         "Pan",
         "Pan axes with left mouse, zoom with right",
         "arrows",
         "pan"
        ],
        [
         "Zoom",
         "Zoom to rectangle",
         "square-o",
         "zoom"
        ],
        [
         "Download",
         "Download plot",
         "floppy-o",
         "save_figure"
        ]
       ]
      }
     },
     "ebe631d6f69e401f824fd69e9a6c0bd8": {
      "model_module": "@jupyter-widgets/base",
      "model_module_version": "1.2.0",
      "model_name": "LayoutModel",
      "state": {}
     },
     "f5e64d8aa89d4b9082d0386113340c6f": {
      "model_module": "@jupyter-widgets/base",
      "model_module_version": "1.2.0",
      "model_name": "LayoutModel",
      "state": {}
     },
     "f9bb7ba60d76465da23ef3e20dbe8b2f": {
      "model_module": "@jupyter-widgets/base",
      "model_module_version": "1.2.0",
      "model_name": "LayoutModel",
      "state": {}
     },
     "faaff71bea5f4136bd386f8fbc9d4727": {
      "model_module": "jupyter-matplotlib",
      "model_module_version": "^0.7.3",
      "model_name": "MPLCanvasModel",
      "state": {
       "_cursor": "default",
       "_figure_label": "Figure 12",
       "_height": 1200,
       "_image_mode": "diff",
       "_width": 1200,
       "layout": "IPY_MODEL_dd4a42c1d37e4d78bf06db29c2217bb2",
       "toolbar": "IPY_MODEL_c66699cb2cf14eb495a102773cbad6ba",
       "toolbar_position": "left"
      }
     }
    },
    "version_major": 2,
    "version_minor": 0
   }
  }
 },
 "nbformat": 4,
 "nbformat_minor": 4
}
