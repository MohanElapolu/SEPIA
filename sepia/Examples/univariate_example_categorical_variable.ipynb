{
 "cells": [
  {
   "cell_type": "code",
   "execution_count": 1,
   "outputs": [],
   "source": [
    "import numpy as np\n",
    "import matplotlib.pyplot as plt\n",
    "import seaborn as sns\n",
    "sns.set()\n",
    "\n",
    "from sepia.SepiaModelSetup import setup_model\n",
    "from sepia.SepiaData import SepiaData\n",
    "from sepia.SepiaPredict import SepiaXvalEmulatorPrediction, SepiaEmulatorPrediction, SepiaFullPrediction"
   ],
   "metadata": {
    "collapsed": false,
    "pycharm": {
     "name": "#%%\n"
    }
   }
  },
  {
   "cell_type": "markdown",
   "source": [
    "## Univariate-output with categorical input\n",
    "\n",
    "### Create synthetic data\n",
    "\n",
    "In this example, we use synthetic data generated as follows.\n",
    "\n",
    "Simulation data: $y_{sim} = 2.5 \\cos(0.2v)$ if $c == 1$, $y_{sim} = 2.5 \\cos(0.2v - 0.5)$ if $c == 2$\n",
    "\n",
    "Observed data: $y_{obs} = 2.5 \\cos(0.2v) + \\epsilon$ if $c == 1$, $y_{obs} = 2.5 \\cos(0.2v - 0.5) + \\epsilon$ if $c == 2$\n",
    "\n",
    "where $\\epsilon \\sim N(0, \\sigma^2_n)$.\n",
    "\n",
    "In this case, $v$ is a univariate input variable and $c$ is a categorical input variable.\n",
    "\n",
    "In the model, the simulation data output $y$ is assumed to vary smoothly with $v$, but the relationship depends on $c$.\n",
    "The observed data output is assumed to conform to the same relationship (plus white noise),\n",
    "but the true input value generating $y_{obs}$ would not be known in advance.\n",
    "That is, in this example, we generate the $v$ and $c$ corresponding to $y_{obs}$, but in a real data situation,\n",
    "this would be unknown.\n",
    "We conventionally use $\\theta$ to refer to the unknown input value that would generate the observed data.\n",
    "\n",
    "First, we generate the synthetic data."
   ],
   "metadata": {
    "collapsed": false,
    "pycharm": {
     "name": "#%% md\n",
     "is_executing": true
    }
   },
   "outputs": [
    {
     "ename": "SyntaxError",
     "evalue": "invalid syntax (<ipython-input-26-ff27b4bed3a6>, line 2)",
     "output_type": "error",
     "traceback": [
      "\u001B[0;36m  File \u001B[0;32m\"<ipython-input-26-ff27b4bed3a6>\"\u001B[0;36m, line \u001B[0;32m2\u001B[0m\n\u001B[0;31m    In this example, we use synthetic data generated as follows.\u001B[0m\n\u001B[0m          ^\u001B[0m\n\u001B[0;31mSyntaxError\u001B[0m\u001B[0;31m:\u001B[0m invalid syntax\n"
     ]
    }
   ]
  },
  {
   "cell_type": "code",
   "execution_count": 2,
   "outputs": [],
   "source": [
    "seed = 42   # random seed\n",
    "m = 100     # number of simulated data observations\n",
    "n = 1       # number of observed data observations\n",
    "sig_n = 0.1 # observation noise SD\n",
    "\n",
    "np.random.seed(seed)\n",
    "\n",
    "# Sim data\n",
    "v_sim = np.linspace(0, 10, m)[:, None]\n",
    "y_sim = np.zeros((m, 1))\n",
    "c_sim = np.zeros((m, 1))\n",
    "for i in range(m):\n",
    "    c_rand = np.random.choice([1, 2], size=1)\n",
    "    c_sim[i, :] = c_rand\n",
    "    if c_rand == 1:\n",
    "        y_sim[i, :] = 2.5 * np.cos(0.2 * v_sim[i, :])\n",
    "    else:\n",
    "        y_sim[i, :] = 2.5 * np.cos(0.2 * v_sim[i, :] - 0.5)\n",
    "\n",
    "# Obs data: c == 1\n",
    "v_obs = np.array([[7.5]])\n",
    "c_obs = np.array([[1]])\n",
    "y_obs = 2.5 * np.cos(0.2 * v_obs) + sig_n * np.random.normal(size=(n, 1))"
   ],
   "metadata": {
    "collapsed": false,
    "pycharm": {
     "name": "#%%\n"
    }
   }
  },
  {
   "cell_type": "markdown",
   "source": [
    "### Create SepiaData object\n",
    "\n",
    "Next, we initialize the SepiaData object which does some basic checking about whether the input data\n",
    "are of the correct shapes, and infers what kind of model you're going to use based on the input data.\n",
    "In this case, we pass in $t_{sim}$, $y_{sim}$, and $y_{obs}$ to indicate that we have both simulated\n",
    "and observed data."
   ],
   "metadata": {
    "collapsed": false
   }
  },
  {
   "cell_type": "code",
   "execution_count": 3,
   "outputs": [
    {
     "name": "stdout",
     "output_type": "stream",
     "text": [
      "This SepiaData instance implies the following:\n",
      "This is a simulator and obs model, sim y dimension 1, obs y dimension 1\n",
      "n  =     1 (number of observed data)\n",
      "m  =   100 (number of simulated data)\n",
      "p  =     1 (number of inputs)\n",
      "q  =     2 (number of additional simulation inputs to calibrate)\n",
      "pu =     1 (univariate response dimension)Categorical x input variables:\n",
      "Categorical t input variables:\n",
      "t index 1 with 2 categories\n",
      "\n"
     ]
    }
   ],
   "source": [
    "# Combine t and c into one set of inputs\n",
    "t_sim = np.concatenate([v_sim, c_sim], axis=1)\n",
    "# t_cat_ind tells the model that the first column of t is not categorical, the second column has two categories\n",
    "data = SepiaData(t_sim=t_sim, y_sim=y_sim, y_obs=y_obs, t_cat_ind=[0, 2])\n",
    "print(data)"
   ],
   "metadata": {
    "collapsed": false,
    "pycharm": {
     "name": "#%%\n"
    }
   }
  },
  {
   "cell_type": "markdown",
   "source": [
    "This is what the data looks like: in the simulations, $y$ varies smoothly with $v$; the two colors denote $c = 1$ and $c = 2$.\n",
    "The observed data $y$ is shown as a horizontal line.\n",
    "Based on the $y$/$v$ relationship apparent in the simulations,\n",
    "there are three regions where $v$ would produce values consistent with the observed $y$."
   ],
   "metadata": {
    "collapsed": false,
    "pycharm": {
     "name": "#%% md\n"
    }
   }
  },
  {
   "cell_type": "code",
   "execution_count": 4,
   "outputs": [
    {
     "data": {
      "text/plain": "<Figure size 432x288 with 1 Axes>",
      "image/png": "[encoded data removed]"
     },
     "metadata": {},
     "output_type": "display_data"
    }
   ],
   "source": [
    "sc = plt.scatter(data.sim_data.t[:, 0], data.sim_data.y, c=data.sim_data.t[:, 1], cmap='jet')\n",
    "plt.axhline(data.obs_data.y, color='red')\n",
    "plt.axvline(v_obs, color='grey', linestyle='dashed')\n",
    "plt.title('Synthetic data')\n",
    "plt.xlabel('v')\n",
    "plt.ylabel('y')\n",
    "legend1 = plt.gca().legend(*sc.legend_elements(),\n",
    "                    loc=\"lower left\", title=\"Sim c=\")\n",
    "plt.gca().add_artist(legend1)\n",
    "plt.show()"
   ],
   "metadata": {
    "collapsed": false,
    "pycharm": {
     "name": "#%%\n"
    }
   }
  },
  {
   "cell_type": "markdown",
   "source": [
    "Standardization of data is important for default priors in the model to work well.\n",
    "\n",
    "We transform $t$ to lie in [0, 1] and standardize the $y$ values.\n",
    "Note that the $t$ transform does not apply to the categorical variable."
   ],
   "metadata": {
    "collapsed": false
   }
  },
  {
   "cell_type": "code",
   "execution_count": 5,
   "outputs": [],
   "source": [
    "data.transform_xt()\n",
    "data.standardize_y()"
   ],
   "metadata": {
    "collapsed": false,
    "pycharm": {
     "name": "#%%\n"
    }
   }
  },
  {
   "cell_type": "markdown",
   "source": [
    "### Create SepiaModel using setup_model\n",
    "\n",
    "Next, we set up the model object; a lot of precalculation of important model components is done here."
   ],
   "metadata": {
    "collapsed": false,
    "pycharm": {
     "name": "#%% md\n"
    }
   }
  },
  {
   "cell_type": "code",
   "execution_count": 6,
   "outputs": [],
   "source": [
    "model = setup_model(data)\n"
   ],
   "metadata": {
    "collapsed": false,
    "pycharm": {
     "name": "#%%\n"
    }
   }
  },
  {
   "cell_type": "markdown",
   "source": [
    "### Do MCMC\n",
    "\n",
    "We will use all the default priors and settings to do MCMC.\n",
    "\n",
    "We tune the step sizes, then draw 1000 MCMC samples."
   ],
   "metadata": {
    "collapsed": false,
    "pycharm": {
     "name": "#%% md\n"
    }
   }
  },
  {
   "cell_type": "code",
   "execution_count": 7,
   "outputs": [
    {
     "name": "stderr",
     "output_type": "stream",
     "text": [
      "Step size tuning: 100%|██████████| 50/50 [00:06<00:00,  7.93it/s]\n",
      "MCMC sampling: 100%|██████████| 1000/1000 [00:05<00:00, 185.67it/s]\n"
     ]
    },
    {
     "name": "stdout",
     "output_type": "stream",
     "text": [
      "Starting tune_step_sizes...\n",
      "Default step sizes:\n",
      "theta\n",
      "[[0.2 0.2]]\n",
      "betaU\n",
      "[[0.1]\n",
      " [0.1]\n",
      " [0.1]]\n",
      "lamUz\n",
      "[[5.]]\n",
      "lamWs\n",
      "[[100.]]\n",
      "lamWOs\n",
      "[[100.]]\n",
      "lamOs\n",
      "[[500.]]\n",
      "problem fitting glm on param theta index 1, reverting to default step size.\n",
      "Done with tune_step_size.\n",
      "Selected step sizes:\n",
      "theta\n",
      "[[0.06820127 0.2       ]]\n",
      "betaU\n",
      "[[0.14976359]\n",
      " [0.39789502]\n",
      " [0.68953896]]\n",
      "lamUz\n",
      "[[1.04953636]]\n",
      "lamWs\n",
      "[[11842.68563731]]\n",
      "lamWOs\n",
      "[[7903.57836263]]\n",
      "lamOs\n",
      "[[5434.57213711]]\n"
     ]
    }
   ],
   "source": [
    "model.tune_step_sizes(50, 20)\n",
    "model.do_mcmc(1000)"
   ],
   "metadata": {
    "collapsed": false,
    "pycharm": {
     "name": "#%%\n"
    }
   }
  },
  {
   "cell_type": "markdown",
   "source": [
    "As a basic visualization, we will plot histograms of $\\theta$ with the true $v_obs$ as a vertical line."
   ],
   "metadata": {
    "collapsed": false
   }
  },
  {
   "cell_type": "code",
   "execution_count": 8,
   "outputs": [
    {
     "data": {
      "text/plain": "<Figure size 432x288 with 2 Axes>",
      "image/png": "[encoded data removed]"
     },
     "metadata": {},
     "output_type": "display_data"
    }
   ],
   "source": [
    "samples = model.get_samples()\n",
    "\n",
    "plt.figure()\n",
    "plt.subplot(121)\n",
    "plt.hist(samples['theta_native'][:, 0])\n",
    "plt.xlabel('v')\n",
    "plt.axvline(v_obs)\n",
    "plt.subplot(122)\n",
    "plt.hist(samples['theta'][:, 1])\n",
    "plt.xlabel('c')\n",
    "plt.show()"
   ],
   "metadata": {
    "collapsed": false,
    "pycharm": {
     "name": "#%%\n"
    }
   }
  },
  {
   "cell_type": "markdown",
   "source": [
    "### Model predictions\n",
    "Finally, we will use the MCMC samples to do some predictions.\n",
    "First, we get emulator predictions (which are predicting the $v$/$y$ relationship based on the simulation data).\n",
    "The inputs `x_pred` and `t_pred` refer to simulation inputs where we want to predict; for now, we make these equal\n",
    "to the `x` and `t` already in the model's simulation data object.\n",
    "We also need to provide MCMC samples, so that the Gaussian process (GP) emulator parameters are taken from these samples.\n",
    "The resulting `y` predictions are in the native space (standardization is un-done) though we can also predict in\n",
    "standardized space, if desired.\n",
    "We set `addResidVar = True` to get a sense of uncertainty in the GP.\n",
    "\n",
    "We plot the predictions in blue along with the original simulation data in black:"
   ],
   "metadata": {
    "collapsed": false,
    "pycharm": {
     "name": "#%% md\n"
    }
   }
  },
  {
   "cell_type": "code",
   "execution_count": 13,
   "outputs": [
    {
     "data": {
      "text/plain": "<Figure size 432x288 with 1 Axes>",
      "image/png": "[encoded data removed]"
     },
     "metadata": {},
     "output_type": "display_data"
    }
   ],
   "source": [
    "pred_samples = model.get_samples(numsamples=20)\n",
    "pred = SepiaEmulatorPrediction(samples=pred_samples, model=model, x_pred=model.data.sim_data.x_trans,\n",
    "                               t_pred=model.data.sim_data.t_trans, addResidVar=True)\n",
    "# Predictions are (size of sampleset, 100, 1)\n",
    "y_pred = pred.get_y_native()\n",
    "\n",
    "plt.plot(data.sim_data.t[:, 0], y_pred.squeeze().T, 'b*')\n",
    "plt.plot(data.sim_data.t[:, 0], data.sim_data.y, 'k.')\n",
    "plt.title('Synthetic data (black) with emulator predictions (blue)')\n",
    "plt.xlabel('t')\n",
    "plt.ylabel('y')\n",
    "plt.show()\n",
    "\n",
    "\n"
   ],
   "metadata": {
    "collapsed": false,
    "pycharm": {
     "name": "#%%\n"
    }
   }
  }
 ],
 "metadata": {
  "kernelspec": {
   "display_name": "Python 3",
   "language": "python",
   "name": "python3"
  },
  "language_info": {
   "codemirror_mode": {
    "name": "ipython",
    "version": 2
   },
   "file_extension": ".py",
   "mimetype": "text/x-python",
   "name": "python",
   "nbconvert_exporter": "python",
   "pygments_lexer": "ipython2",
   "version": "2.7.6"
  }
 },
 "nbformat": 4,
 "nbformat_minor": 0
}