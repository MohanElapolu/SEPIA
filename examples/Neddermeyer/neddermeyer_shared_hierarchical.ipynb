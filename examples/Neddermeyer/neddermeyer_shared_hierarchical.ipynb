{
 "cells": [
  {
   "cell_type": "markdown",
   "metadata": {},
   "source": [
    "# Shared/hierarchical model demo using Neddermeyer data\n",
    "Based on data from Higdon et al. 2008 'Computer Model Calibration Using High-Dimensional Output',\n",
    "we compare shared, hierarchical, and independent calibrations."
   ]
  },
  {
   "cell_type": "code",
   "execution_count": 1,
   "metadata": {},
   "outputs": [],
   "source": [
    "%load_ext autoreload\n",
    "%autoreload 2\n",
    "%matplotlib inline\n",
    "# for interactive plots replace 'inline' with 'widget' and run in standalone jupyter notebook/lab\n",
    "\n",
    "import os\n",
    "import numpy as np\n",
    "from scipy.interpolate import interp2d\n",
    "from copy import deepcopy\n",
    "import pickle\n",
    "\n",
    "from sepia.SepiaModel import SepiaModel\n",
    "from sepia.SepiaData import SepiaData as SepiaData\n",
    "import sepia.SepiaPlot as SepiaPlot\n",
    "from sepia.SepiaSharedThetaModels import SepiaSharedThetaModels\n",
    "from sepia.SepiaHierarchicalThetaModels import SepiaHierarchicalThetaModels\n",
    "\n",
    "from mpl_toolkits.mplot3d import Axes3D\n",
    "import matplotlib.pyplot as plt\n",
    "\n",
    "from nedderimp import nedderimp\n",
    "\n",
    "\n",
    "def dist2pi(x1,x2):\n",
    "    # computes the distance assuming periodicity: 2pi=0\n",
    "    # x1 and x2 are vectors with common length and values\n",
    "    # between 0 and 2pi\n",
    "    d = abs(x1-x2)\n",
    "    iwrap = d > np.pi\n",
    "    d[iwrap] = 2*np.pi - d[iwrap]\n",
    "    return d\n",
    "\n",
    "def dnorm(x,mu,scale):  \n",
    "    # normal density in 1-d. \n",
    "    # It is scaled so that the 1-d integral is 1\n",
    "    # mu and scale are scalars, x is an array...\n",
    "    out=np.zeros(len(x))\n",
    "    u=abs(x-mu)/scale\n",
    "    out = (1.0/(np.sqrt(2*np.pi)*scale)) * np.exp(-.5 * u**2)\n",
    "    return out"
   ]
  },
  {
   "cell_type": "markdown",
   "metadata": {},
   "source": [
    "### simulation design"
   ]
  },
  {
   "cell_type": "code",
   "execution_count": 2,
   "metadata": {},
   "outputs": [],
   "source": [
    "cachefile_name='pkls/nedderDesign.pkl'\n",
    "if os.path.isfile(cachefile_name):\n",
    "    design=pickle.load(open(cachefile_name, \"rb\" ))\n",
    "else:\n",
    "    design = np.array([\n",
    "        [0.7714,    0.4286,    0.0286],\n",
    "        [0.3714,    0.1143,    0.7143],\n",
    "        [0.1714,    0.4571,    0.8857],\n",
    "        [0.3429,    0.6000,    0.8000],\n",
    "        [0.8000,    0.6286,    0.4000],\n",
    "        [0.7429,    0.5429,         0],\n",
    "        [0.6571,    1.0000,    0.6286],\n",
    "        [0.2857,         0,    0.4571],\n",
    "        [0.5143,    0.9429,    0.2286],\n",
    "        [0.6857,    0.3143,    0.6571],\n",
    "        [0.8286,    0.2000,    1.0000],\n",
    "        [0.9714,    0.3429,    0.6000],\n",
    "        [0.4000,    0.8000,    0.2000],\n",
    "        [0.5429,    0.2857,    0.2857],\n",
    "        [0.9143,    0.8857,    0.2571],\n",
    "        [0.0571,    0.0286,    0.0857],\n",
    "        [0.1143,    0.5714,    0.7429],\n",
    "        [0.2000,    0.2286,    0.3714],\n",
    "        [0.4571,    0.9143,    0.3429],\n",
    "        [0.6286,    0.7143,    0.6857],\n",
    "        [     0,    0.8286,    0.9429],\n",
    "        [0.8857,    0.0857,    0.9714],\n",
    "        [0.2286,    0.0571,    0.5714],\n",
    "        [0.7143,    0.1714,    0.8571],\n",
    "        [0.2571,    0.4857,    0.1429],\n",
    "        [0.5714,    0.4000,    0.8286],\n",
    "        [0.9429,    0.6857,    0.4857],\n",
    "        [0.4857,    0.1429,    0.1143],\n",
    "        [1.0000,    0.8571,    0.9143],\n",
    "        [0.6000,    0.6571,    0.5143],\n",
    "        [0.1429,    0.7429,    0.5429],\n",
    "        [0.8571,    0.2571,    0.0571],\n",
    "        [0.3143,    0.3714,    0.4286],\n",
    "        [0.4286,    0.7714,    0.7714],\n",
    "        [0.0286,    0.9714,    0.3143],\n",
    "        [0.0857,    0.5143,    0.1714]])\n",
    "    pickle.dump(design,open( cachefile_name, \"w+b\" ))\n",
    "# number of experiements and simulations\n",
    "n = 3; m = design.shape[0]\n",
    "\n",
    "# these parameter values simulate expt 10 in Neddermeyer '43\n",
    "# params =             [R1      lam     s         rho   mratio   u0]\n",
    "params10 = np.array([1.5*2.54, 2/3,  3e5*6.84e4,  7.5,   .32,   1.65e10])\n",
    "paramslhs = np.zeros((m, 6))\n",
    "for i in range(m):#\n",
    "    paramslhs[i,:] = params10*np.array([1, 1, design[i,1]*.2+.9, 1, design[i,0]*.65+.5, design[i,2]*.2+.9])\n",
    "# the simulation runs will vary mratio from .32*[.5 to 1.15]\n",
    "#                                s      from s0*[.9 to 1.1]\n",
    "#                                u0     from u0*[.9 to 1.1]\n"
   ]
  },
  {
   "cell_type": "markdown",
   "metadata": {},
   "source": [
    "# Generate simulation data"
   ]
  },
  {
   "cell_type": "code",
   "execution_count": 3,
   "metadata": {},
   "outputs": [],
   "source": [
    "nt = 22; nphi = 26\n",
    "time = np.c_[np.linspace(0,5.0e-5,nt,endpoint=True)]\n",
    "phi = np.linspace(0,1,nphi,endpoint=True) * 2*np.pi;\n",
    "rinner = nedderimp(time,params10);\n",
    "lam = params10[1]; R1 = params10[0];\n",
    "router = np.sqrt(rinner**2 + 1 - lam**2);\n",
    "xycirc = np.array([np.cos(phi),np.sin(phi)]).T\n",
    "r = nedderimp(time,params10);\n",
    "yr = np.zeros((m,nt))\n",
    "for i in range(m):\n",
    "    params = paramslhs[i,:]\n",
    "    yr[i,:] = params[0]*nedderimp(time,params)\n",
    "y_sim = np.tile(yr,nphi)\n",
    "example_runs = [0,1,28]\n",
    "# indices\n",
    "y_sim_ind_time_phi = np.zeros((22*26,2))\n",
    "y_sim_ind_time_phi[:,0] = np.repeat(time,26)\n",
    "y_sim_ind_time_phi[:,1] = np.tile(phi,22)\n",
    "x_sim = design[:,0].reshape(m,1)\n",
    "t_sim = design[:,1:3]"
   ]
  },
  {
   "cell_type": "markdown",
   "metadata": {},
   "source": [
    "# Generate observed data"
   ]
  },
  {
   "cell_type": "code",
   "execution_count": 4,
   "metadata": {},
   "outputs": [],
   "source": [
    "phi_obs = np.arange(0,(2*np.pi-.1),(2*np.pi/16))\n",
    "n_phi_obs = phi_obs.shape[0]\n",
    "time_obs = [np.array([1.5e-5, 2.7e-5, 4.5e-5]),np.array([4.5e-5]),np.array([2.5e-5, 4.5e-5])]\n",
    "n_time_obs = [tmp.shape[0] for tmp in time_obs]\n",
    "\n",
    "phiknots = np.arange(0,2*np.pi-.1,2*np.pi/8)\n",
    "dknots = np.expand_dims(np.array([.04, -.03, .03, -.03, .02, -.03, .03, -.03]),1)*2.5\n",
    "pphiknots = len(phiknots)\n",
    "Ddelt = np.zeros((phi_obs.shape[0], pphiknots));\n",
    "datadelt = np.matmul(Ddelt,dknots)\n",
    "\n",
    "# observations\n",
    "r_obs = [None]*3; y_obs = [None]*3\n",
    "for i in range(3):\n",
    "    obs_params = deepcopy(params10)\n",
    "    if i==1: obs_params[4]=.17\n",
    "    elif i==2: obs_params[4]=.36\n",
    "    r_obs[i] = np.atleast_2d(obs_params[0]*nedderimp(time_obs[i],obs_params))\n",
    "    y_obs[i] = np.tile(r_obs[i].T,phi_obs.shape[0]).reshape(n_phi_obs,n_time_obs[i]) + np.tile(datadelt,n_time_obs[i])\n",
    "    y_obs[i] = (y_obs[i] + .01*np.random.normal(size=y_obs[i].shape)).flatten()\n",
    "\n",
    "# indices of observations\n",
    "x_obs = ((np.array([params10[4], .17, .36])/.32-.5)/.65).reshape(3,1)\n",
    "y_ind_obs = [np.column_stack( ( np.concatenate((np.ones(phi_obs.shape[0])*time_obs[0][0],\\\n",
    "                                   np.ones(phi_obs.shape[0])*time_obs[0][1],\\\n",
    "                                       np.ones(phi_obs.shape[0])*time_obs[0][2])), np.tile(phi_obs,3).T ) ),\n",
    "                np.column_stack( ( (np.ones(phi_obs.shape[0])*time_obs[1]).reshape(16,1), phi_obs.T ) ),\n",
    "                np.column_stack( ( np.concatenate((np.ones(phi_obs.shape[0])*time_obs[2][0],\\\n",
    "                                   np.ones(phi_obs.shape[0])*time_obs[2][1])), np.tile(phi_obs,2).T ) )]"
   ]
  },
  {
   "cell_type": "markdown",
   "metadata": {},
   "source": [
    "### Sepia Data"
   ]
  },
  {
   "cell_type": "code",
   "execution_count": 5,
   "metadata": {},
   "outputs": [
    {
     "data": {
      "text/plain": "(None, None)"
     },
     "execution_count": 5,
     "metadata": {},
     "output_type": "execute_result"
    }
   ],
   "source": [
    "data = SepiaData(x_sim = x_sim, t_sim = t_sim, y_sim = y_sim, y_ind_sim = y_sim_ind_time_phi,\\\n",
    "                 x_obs = x_obs, y_obs = y_obs, y_ind_obs = y_ind_obs)\n",
    "data.transform_xt()"
   ]
  },
  {
   "cell_type": "markdown",
   "metadata": {},
   "source": [
    "### K basis"
   ]
  },
  {
   "cell_type": "code",
   "execution_count": 6,
   "metadata": {},
   "outputs": [],
   "source": [
    "# sim\n",
    "ysimmean = np.mean(y_sim,0)\n",
    "ysimsd = np.std(y_sim)\n",
    "ysimStd = (y_sim - np.tile(ysimmean,m).reshape(y_sim.shape))/ysimsd\n",
    "data.sim_data.orig_y_mean = ysimmean\n",
    "data.sim_data.orig_y_sd = ysimsd\n",
    "data.sim_data.y_std = ysimStd\n",
    "# now represent ye images using eof's\n",
    "U, s, V = np.linalg.svd(ysimStd.T, full_matrices=False)\n",
    "numPC = 3\n",
    "data.sim_data.K = U[:,0:numPC]*s[0:numPC]/np.sqrt(m)\n",
    "data.sim_data.K = data.sim_data.K.T\n",
    "\n",
    "# obs\n",
    "phimat = np.repeat(phi,nt).reshape((nt,nphi),order='F')\n",
    "timemat = np.repeat(time,nphi).reshape((nt,nphi))\n",
    "# compute simulator mean values simdat.ymean interpolated to the data values...\n",
    "interp_func = interp2d(phimat[0,:],timemat[:,0],data.sim_data.orig_y_mean.reshape((nt,nphi),order='F'))\n",
    "data.obs_data.orig_y_mean = []\n",
    "data.obs_data.orig_y_sd = []\n",
    "for k in range(n):\n",
    "    ymk = interp_func(np.unique(data.obs_data.y_ind[k][:,1]),np.unique(data.obs_data.y_ind[k][:,0]))                                                                             \n",
    "    data.obs_data.orig_y_mean.append(ymk.flatten())\n",
    "    data.obs_data.orig_y_sd.append(data.sim_data.orig_y_sd)\n",
    "\n",
    "# now compute the centered, scaled observed arrival times yStd\n",
    "data.obs_data.y_std = []\n",
    "for k in range(n):\n",
    "    data.obs_data.y_std.append((data.obs_data.y[k] - data.obs_data.orig_y_mean[k])/data.sim_data.orig_y_sd)\n",
    "\n",
    "data.obs_data.K = []\n",
    "for k in range(n):\n",
    "    data.obs_data.K.append(np.zeros((data.obs_data.y_std[k].shape[0], numPC)))\n",
    "    for j in range(numPC):\n",
    "        f = interp2d(phimat[0,:],timemat[:,0],np.reshape(data.sim_data.K[j,:],(nt,nphi),order='F'))\n",
    "        data.obs_data.K[k][:,j] = f(data.obs_data.y_ind[k][:,1],data.obs_data.y_ind[k][:,0])[:,0]\n",
    "\n",
    "for k in range(n):\n",
    "    data.obs_data.K[k] = data.obs_data.K[k].T"
   ]
  },
  {
   "cell_type": "markdown",
   "metadata": {},
   "source": [
    "### D basis"
   ]
  },
  {
   "cell_type": "code",
   "execution_count": 7,
   "metadata": {},
   "outputs": [],
   "source": [
    "# compute the basis functions for the discrepancy function.\n",
    "Dobs = []\n",
    "Dsim  = np.zeros((phi.shape[0], pphiknots))\n",
    "for k in range(pphiknots):\n",
    "    Ddelt[:,k] = dnorm(dist2pi(phi_obs,phiknots[k]*np.ones(phi_obs.shape[0])),0,np.pi/8).T;\n",
    "    x = dist2pi(phi,phiknots[k]*np.ones(phi.shape[0])).flatten()\n",
    "    Dsim[:,k] = dnorm(x=x,mu=0,scale=np.pi/8)\n",
    "\n",
    "simdelt = np.matmul(Dsim,dknots)\n",
    "timeknots = np.linspace(0,.5,3)*1e-4\n",
    "ptimeknots=len(timeknots)\n",
    "for k in range(n):\n",
    "    knotlocstime = np.reshape(np.repeat(timeknots,pphiknots),(ptimeknots*pphiknots, 1))\n",
    "    knotlocsphi = np.expand_dims(np.tile(phiknots,ptimeknots),1)\n",
    "    pv = knotlocstime.shape[0]\n",
    "    Dobs.append(np.zeros((pv,data.obs_data.y_std[k].shape[0])))\n",
    "    if k == 0: Dsim = np.zeros((pv,data.sim_data.y_std.shape[1]))\n",
    "    for j in range(pv):\n",
    "        Dobs[-1][j,:] = dnorm(y_ind_obs[k][:,0],knotlocstime[j],.25*1e-4)*\\\n",
    "            dnorm(dist2pi(y_ind_obs[k][:,1],knotlocsphi[j]*np.ones(y_ind_obs[k][:,1].shape[0])),0,np.pi/8)\n",
    "        if k == 0:\n",
    "            Dsim[j,:] = dnorm(timemat.flatten('F'),knotlocstime[j],.25*1e-4)*\\\n",
    "                dnorm(dist2pi(phimat.flatten('F'),knotlocsphi[j]*np.ones(len(phimat.flatten()))),0,np.pi/8)\n",
    "\n",
    "data.create_D_basis(D_obs=Dobs,D_sim=Dsim)"
   ]
  },
  {
   "cell_type": "code",
   "execution_count": 8,
   "metadata": {},
   "outputs": [],
   "source": [
    "import copy\n",
    "# Set up models\n",
    "\n",
    "model = SepiaModel(data)\n",
    "shared_model = SepiaSharedThetaModels([copy.deepcopy(model), copy.deepcopy(model)], np.array([[0, 0], [1, 1]]))\n",
    "hier_model = SepiaHierarchicalThetaModels([copy.deepcopy(model), copy.deepcopy(model)], np.array([[0, 0], [1, 1]]))"
   ]
  },
  {
   "cell_type": "code",
   "execution_count": 9,
   "outputs": [
    {
     "name": "stderr",
     "output_type": "stream",
     "text": [
      "MCMC sampling: 100%|██████████| 5000/5000 [01:22<00:00, 60.56it/s]\n"
     ]
    }
   ],
   "source": [
    "model.do_mcmc(5000)\n",
    "#model.save_model_info(cachefile_name)"
   ],
   "metadata": {
    "collapsed": false,
    "pycharm": {
     "name": "#%%\n"
    }
   }
  },
  {
   "cell_type": "code",
   "execution_count": 10,
   "outputs": [
    {
     "name": "stderr",
     "output_type": "stream",
     "text": [
      "MCMC sampling: 100%|██████████| 5000/5000 [05:18<00:00, 15.71it/s]\n"
     ]
    }
   ],
   "source": [
    "shared_model.do_mcmc(5000)"
   ],
   "metadata": {
    "collapsed": false,
    "pycharm": {
     "name": "#%%\n"
    }
   }
  },
  {
   "cell_type": "code",
   "execution_count": 11,
   "outputs": [
    {
     "name": "stderr",
     "output_type": "stream",
     "text": [
      "MCMC sampling:   0%|          | 0/5000 [00:00<?, ?it/s]/Users/neklein/Documents/Code/sepia/SEPIA/sepia/SepiaHierarchicalThetaModels.py:267: RuntimeWarning: divide by zero encountered in log\n",
      "  if np.log(np.random.uniform()) < (np.sum(new_prior) - np.sum(old_prior) + np.log(hprm.mcmc.aCorr)):\n",
      "MCMC sampling: 100%|██████████| 5000/5000 [03:15<00:00, 25.52it/s]\n"
     ]
    }
   ],
   "source": [
    "hier_model.do_mcmc(5000)"
   ],
   "metadata": {
    "collapsed": false,
    "pycharm": {
     "name": "#%%\n"
    }
   }
  },
  {
   "cell_type": "code",
   "execution_count": 15,
   "outputs": [],
   "source": [
    "tmin = data.sim_data.orig_t_min\n",
    "tmax = data.sim_data.orig_t_max\n",
    "theta_true = {}\n",
    "theta_true['theta0'] = 0.5217 * (tmax[0, 0] - tmin[0, 0]) + tmin[0, 0]\n",
    "theta_true['theta1'] = 0.4874 * (tmax[0, 1] - tmin[0, 1]) + tmin[0, 1]"
   ],
   "metadata": {
    "collapsed": false,
    "pycharm": {
     "name": "#%%\n"
    }
   }
  },
  {
   "cell_type": "markdown",
   "source": [
    "First we will compare the single model to the shared model (which uses the same data in both models, so it's like\n",
    "using double the amount of data in the single model).\n",
    "In the shared model, both of the thetas are shared between models so the samples will be identical in both models.\n",
    "The call `shared_model.get_samples()` retrieves the samples for both models but we will only look at one of them."
   ],
   "metadata": {
    "collapsed": false,
    "pycharm": {
     "name": "#%% md\n"
    }
   }
  },
  {
   "cell_type": "code",
   "execution_count": 16,
   "outputs": [],
   "source": [
    "# Extract samples\n",
    "single_model_samples = model.get_samples()\n",
    "shared_model_samples = shared_model.get_samples()"
   ],
   "metadata": {
    "collapsed": false,
    "pycharm": {
     "name": "#%%\n"
    }
   }
  },
  {
   "cell_type": "code",
   "execution_count": 17,
   "outputs": [
    {
     "data": {
      "text/plain": "<Figure size 432x288 with 2 Axes>",
      "image/png": "[encoded data removed]"
     },
     "metadata": {},
     "output_type": "display_data"
    }
   ],
   "source": [
    "plt.figure()\n",
    "for i in range(2):\n",
    "    plt.subplot(1, 2, i+1)\n",
    "    plt.hist(single_model_samples['theta_native'][:, i], alpha=0.7, color='b', label='single')\n",
    "    plt.axvline(np.mean(single_model_samples['theta_native'][:, i]), color='b')\n",
    "    plt.hist(shared_model_samples['model0']['theta_native'][:, i], alpha=0.7, color='g', label='shared')\n",
    "    plt.axvline(np.mean(shared_model_samples['model0']['theta_native'][:, i]), color='g')\n",
    "    plt.axvline(theta_true['theta%d'%i], color='k', linestyle='dashed')\n",
    "    plt.title('theta %d' % i)\n",
    "    if i == 1:\n",
    "        plt.legend()"
   ],
   "metadata": {
    "collapsed": false,
    "pycharm": {
     "name": "#%%\n"
    }
   }
  },
  {
   "cell_type": "markdown",
   "source": [
    "It appears that the single and shared models obtain nearly the same posterior mean for both thetas,\n",
    "but the shared model posterior is more concentrated than the single model posterior.\n",
    "This is what we expect: in this case, the shared model is essentially the same as the single model\n",
    "with twice the amount of data."
   ],
   "metadata": {
    "collapsed": false,
    "pycharm": {
     "name": "#%% md\n"
    }
   }
  },
  {
   "cell_type": "markdown",
   "source": [
    "What about the hierarchical model? The two models have similar posteriors that are again more concentrated than the single."
   ],
   "metadata": {
    "collapsed": false,
    "pycharm": {
     "name": "#%% md\n"
    }
   }
  },
  {
   "cell_type": "code",
   "execution_count": 18,
   "outputs": [
    {
     "data": {
      "text/plain": "<Figure size 432x288 with 2 Axes>",
      "image/png": "[encoded data removed]"
     },
     "metadata": {},
     "output_type": "display_data"
    }
   ],
   "source": [
    "hier_model_samples = hier_model.get_samples()\n",
    "\n",
    "plt.figure()\n",
    "for i in range(2):\n",
    "    plt.subplot(1, 2, i+1)\n",
    "    plt.hist(single_model_samples['theta_native'][:, i], alpha=0.7, color='b', label='single')\n",
    "    plt.axvline(np.mean(single_model_samples['theta_native'][:, i]), color='b')\n",
    "    plt.hist(hier_model_samples['model0']['theta_native'][:, i], alpha=0.7, color='g', label='hier 0')\n",
    "    plt.axvline(np.mean(hier_model_samples['model0']['theta_native'][:, i]), color='g')\n",
    "    plt.hist(hier_model_samples['model1']['theta_native'][:, i], alpha=0.7, color='r', label='hier 1')\n",
    "    plt.axvline(np.mean(hier_model_samples['model1']['theta_native'][:, i]), color='r')\n",
    "    plt.axvline(theta_true['theta%d'%i], color='k', linestyle='dashed')\n",
    "    plt.title('theta %d' % i)\n",
    "    if i == 1:\n",
    "        plt.legend()"
   ],
   "metadata": {
    "collapsed": false,
    "pycharm": {
     "name": "#%%\n"
    }
   }
  },
  {
   "cell_type": "markdown",
   "source": [
    "The hierarchical means are near the true values of theta,\n",
    "and the hierarchical variances are small, indicating the model has learned that the values of theta should\n",
    "be similar between the two models."
   ],
   "metadata": {
    "collapsed": false,
    "pycharm": {
     "name": "#%% md\n"
    }
   }
  },
  {
   "cell_type": "code",
   "execution_count": 19,
   "outputs": [
    {
     "data": {
      "text/plain": "<Figure size 432x288 with 2 Axes>",
      "image/png": "[encoded data removed]"
     },
     "metadata": {},
     "output_type": "display_data"
    },
    {
     "data": {
      "text/plain": "<Figure size 432x288 with 2 Axes>",
      "image/png": "[encoded data removed]"
     },
     "metadata": {},
     "output_type": "display_data"
    }
   ],
   "source": [
    "for i in range(2):\n",
    "    plt.figure()\n",
    "    plt.subplot(121)\n",
    "    plt.hist(hier_model_samples['hier_mu%d'%i])\n",
    "    plt.title('theta %d hier mean' % i)\n",
    "    plt.axvline(theta_true['theta%d'%i], color='k', linestyle='dashed')\n",
    "    plt.subplot(122)\n",
    "    plt.hist(1./hier_model_samples['hier_lambda%d'%i])\n",
    "    plt.title('theta %d hier var' % i)\n",
    "\n"
   ],
   "metadata": {
    "collapsed": false,
    "pycharm": {
     "name": "#%%\n"
    }
   }
  }
 ],
 "metadata": {
  "kernelspec": {
   "display_name": "Python 3",
   "language": "python",
   "name": "python3"
  },
  "language_info": {
   "codemirror_mode": {
    "name": "ipython",
    "version": 3
   },
   "file_extension": ".py",
   "mimetype": "text/x-python",
   "name": "python",
   "nbconvert_exporter": "python",
   "pygments_lexer": "ipython3",
   "version": "3.7.0"
  },
  "widgets": {
   "application/vnd.jupyter.widget-state+json": {
    "state": {},
    "version_major": 2,
    "version_minor": 0
   }
  }
 },
 "nbformat": 4,
 "nbformat_minor": 4
}